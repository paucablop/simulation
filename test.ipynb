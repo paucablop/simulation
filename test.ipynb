{
 "cells": [
  {
   "cell_type": "code",
   "execution_count": 1,
   "metadata": {},
   "outputs": [],
   "source": [
    "import numpy as np\n",
    "import matplotlib.pyplot as plt\n",
    "from random import choice\n",
    "from scipy.ndimage import convolve\n",
    "\n",
    "from schelling.objects import Agent, Grid\n",
    "from schelling.plot import plot_agents, plot_satisfaction"
   ]
  },
  {
   "cell_type": "code",
   "execution_count": 3,
   "metadata": {},
   "outputs": [
    {
     "data": {
      "image/png": "[encoded data removed]",
      "text/plain": [
       "<Figure size 640x480 with 1 Axes>"
      ]
     },
     "metadata": {},
     "output_type": "display_data"
    }
   ],
   "source": [
    "grid = Grid(size=50, threshold=0.01, vacancy_ratio=0.1, kind_ratio=0.65)\n",
    "grid.create_agents()\n",
    "grid.update_grid(grid.agents)\n",
    "plot_agents(grid.grid)\n"
   ]
  },
  {
   "cell_type": "code",
   "execution_count": 4,
   "metadata": {},
   "outputs": [
    {
     "name": "stderr",
     "output_type": "stream",
     "text": [
      "/home/paucablop/git/home/simulation/schelling/objects.py:63: RuntimeWarning: divide by zero encountered in long_scalars\n",
      "  kind_1_satisfaction[row, col] / kind_2_satisfaction[row, col]\n",
      "/home/paucablop/git/home/simulation/schelling/objects.py:67: RuntimeWarning: divide by zero encountered in long_scalars\n",
      "  kind_2_satisfaction[row, col] / kind_1_satisfaction[row, col]\n"
     ]
    },
    {
     "ename": "TypeError",
     "evalue": "cannot unpack non-iterable numpy.int64 object",
     "output_type": "error",
     "traceback": [
      "\u001b[0;31m---------------------------------------------------------------------------\u001b[0m",
      "\u001b[0;31mTypeError\u001b[0m                                 Traceback (most recent call last)",
      "Cell \u001b[0;32mIn [4], line 4\u001b[0m\n\u001b[1;32m      2\u001b[0m \u001b[39mfor\u001b[39;00m i \u001b[39min\u001b[39;00m \u001b[39mrange\u001b[39m(\u001b[39m1000\u001b[39m):\n\u001b[1;32m      3\u001b[0m     grid\u001b[39m.\u001b[39mcalculate_satisfaction()\n\u001b[0;32m----> 4\u001b[0m     grid\u001b[39m.\u001b[39;49mmove_agents()\n\u001b[1;32m      5\u001b[0m     grid\u001b[39m.\u001b[39mupdate_grid(grid\u001b[39m.\u001b[39magents)\n\u001b[1;32m      6\u001b[0m     satisfactions\u001b[39m.\u001b[39mappend(grid\u001b[39m.\u001b[39moverall_satisfaction)\n",
      "File \u001b[0;32m~/git/home/simulation/schelling/objects.py:93\u001b[0m, in \u001b[0;36mGrid.move_agents\u001b[0;34m(self)\u001b[0m\n\u001b[1;32m     90\u001b[0m new_location \u001b[39m=\u001b[39m np\u001b[39m.\u001b[39mrandom\u001b[39m.\u001b[39mchoice(\u001b[39mlist\u001b[39m(\u001b[39mself\u001b[39m\u001b[39m.\u001b[39mvacant_locations))\n\u001b[1;32m     91\u001b[0m agent\u001b[39m.\u001b[39mlocation \u001b[39m=\u001b[39m new_location\n\u001b[0;32m---> 93\u001b[0m new_satisfaction \u001b[39m=\u001b[39m \u001b[39mself\u001b[39;49m\u001b[39m.\u001b[39;49mpoint_convolution(\u001b[39mself\u001b[39;49m\u001b[39m.\u001b[39;49mgrid, new_location, kernel)\n\u001b[1;32m     95\u001b[0m \u001b[39mself\u001b[39m\u001b[39m.\u001b[39magent_locations\u001b[39m.\u001b[39mremove(agent\u001b[39m.\u001b[39mlocation)\n\u001b[1;32m     96\u001b[0m \u001b[39mself\u001b[39m\u001b[39m.\u001b[39mvacant_locations\u001b[39m.\u001b[39madd(agent\u001b[39m.\u001b[39mlocation)\n",
      "File \u001b[0;32m~/git/home/simulation/schelling/objects.py:105\u001b[0m, in \u001b[0;36mGrid.point_convolution\u001b[0;34m(self, matrix, location, kernel)\u001b[0m\n\u001b[1;32m    101\u001b[0m \u001b[39mdef\u001b[39;00m \u001b[39mpoint_convolution\u001b[39m(\u001b[39mself\u001b[39m,\n\u001b[1;32m    102\u001b[0m     matrix: np\u001b[39m.\u001b[39mndarray, location: \u001b[39mtuple\u001b[39m[\u001b[39mint\u001b[39m, \u001b[39mint\u001b[39m], kernel: np\u001b[39m.\u001b[39mndarray\n\u001b[1;32m    103\u001b[0m ) \u001b[39m-\u001b[39m\u001b[39m>\u001b[39m np\u001b[39m.\u001b[39mndarray:\n\u001b[1;32m    104\u001b[0m     \u001b[39m\"\"\"Convolve a kernel with a matrix at a given location.\"\"\"\u001b[39;00m\n\u001b[0;32m--> 105\u001b[0m     row, col \u001b[39m=\u001b[39m location\n\u001b[1;32m    106\u001b[0m     kernel_size \u001b[39m=\u001b[39m kernel\u001b[39m.\u001b[39mshape[\u001b[39m0\u001b[39m]\n\u001b[1;32m    107\u001b[0m     kernel_radius \u001b[39m=\u001b[39m kernel_size \u001b[39m/\u001b[39m\u001b[39m/\u001b[39m \u001b[39m2\u001b[39m\n",
      "\u001b[0;31mTypeError\u001b[0m: cannot unpack non-iterable numpy.int64 object"
     ]
    }
   ],
   "source": [
    "satisfactions = []\n",
    "for i in range(1000):\n",
    "    grid.calculate_satisfaction()\n",
    "    grid.move_agents()\n",
    "    grid.update_grid(grid.agents)\n",
    "    satisfactions.append(grid.overall_satisfaction)\n",
    "\n"
   ]
  },
  {
   "cell_type": "code",
   "execution_count": 24,
   "metadata": {},
   "outputs": [],
   "source": [
    "kind_1_grid = np.where(grid.grid == -1, 1, 0)\n",
    "kind_2_grid = np.where(grid.grid == 1, 1, 0)"
   ]
  },
  {
   "cell_type": "code",
   "execution_count": 17,
   "metadata": {},
   "outputs": [],
   "source": [
    "def point_convolution(matrix: np.ndarray, location: tuple[int, int], kernel: np.ndarray) -> np.ndarray:\n",
    "    \"\"\"Convolve a kernel with a matrix at a given location.\"\"\"\n",
    "    row, col = location\n",
    "    kernel_size = kernel.shape[0]\n",
    "    kernel_radius = kernel_size // 2\n",
    "    row_start = row - kernel_radius\n",
    "    row_end = row + kernel_radius + 1\n",
    "    col_start = col - kernel_radius\n",
    "    col_end = col + kernel_radius + 1\n",
    "    return convolve(matrix[row_start:row_end, col_start:col_end], kernel, mode=\"reflect\", cval=0)\n"
   ]
  },
  {
   "cell_type": "code",
   "execution_count": null,
   "metadata": {},
   "outputs": [],
   "source": [
    "kernel = np.array([[1, 1, 1], [1, 0, 1], [1, 1, 1]])\n",
    "location = (1, 1)\n",
    "matrix = grid.grid"
   ]
  },
  {
   "cell_type": "code",
   "execution_count": 25,
   "metadata": {},
   "outputs": [
    {
     "data": {
      "text/plain": [
       "array([[1, 2, 3],\n",
       "       [3, 2, 2],\n",
       "       [4, 4, 3]])"
      ]
     },
     "execution_count": 25,
     "metadata": {},
     "output_type": "execute_result"
    }
   ],
   "source": [
    "kernel = np.array([[1, 1, 1], [1, 0, 1], [1, 1, 1]])\n",
    "\n",
    "point_convolution(kind_1_grid, (1, 1), kernel)\n",
    "point_convolution(kind_2_grid, (1, 1), kernel)"
   ]
  },
  {
   "cell_type": "code",
   "execution_count": 14,
   "metadata": {},
   "outputs": [
    {
     "data": {
      "text/plain": [
       "{1, 2, 3, 4}"
      ]
     },
     "execution_count": 14,
     "metadata": {},
     "output_type": "execute_result"
    }
   ],
   "source": []
  }
 ],
 "metadata": {
  "kernelspec": {
   "display_name": "Python 3.10.7 ('simulation-o2rYBdrI')",
   "language": "python",
   "name": "python3"
  },
  "language_info": {
   "codemirror_mode": {
    "name": "ipython",
    "version": 3
   },
   "file_extension": ".py",
   "mimetype": "text/x-python",
   "name": "python",
   "nbconvert_exporter": "python",
   "pygments_lexer": "ipython3",
   "version": "3.10.7"
  },
  "orig_nbformat": 4,
  "vscode": {
   "interpreter": {
    "hash": "24e5c0027d89c37b25e9758b0abc9dfa9b034149ff75eade2c55c42bd1073dc3"
   }
  }
 },
 "nbformat": 4,
 "nbformat_minor": 2
}
