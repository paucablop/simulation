{
 "cells": [
  {
   "cell_type": "code",
   "execution_count": 1,
   "metadata": {},
   "outputs": [],
   "source": [
    "import numpy as np"
   ]
  },
  {
   "cell_type": "code",
   "execution_count": 259,
   "metadata": {},
   "outputs": [],
   "source": [
    "class Agent:\n",
    "    def __init__(self, id: int, color: int, coordinates: np.ndarray = np.empty(0), threshold: float = 0.9):\n",
    "        self.id = id\n",
    "        self.color = color\n",
    "        self.coordinates = coordinates\n",
    "        self.satisfaction = 0\n",
    "\n",
    "    def calculate_satisfaction(self, neighbors: np.ndarray):\n",
    "        orange = np.count_nonzero(neighbors==1)\n",
    "        blue = np.count_nonzero(neighbors==-1)\n",
    "        self.satisfaction = orange / (blue+orange) if self.color == 1 else blue / (blue+orange)\n",
    "\n",
    "    def update_coordinates(self, coordinates: np.ndarray):\n",
    "        self.coordinates = coordinates"
   ]
  },
  {
   "cell_type": "code",
   "execution_count": 260,
   "metadata": {},
   "outputs": [
    {
     "ename": "SyntaxError",
     "evalue": "expected ':' (3188775083.py, line 56)",
     "output_type": "error",
     "traceback": [
      "\u001b[0;36m  Cell \u001b[0;32mIn [260], line 56\u001b[0;36m\u001b[0m\n\u001b[0;31m    if virtual_agent.satisfaction >= agent.threshold\u001b[0m\n\u001b[0m                                                    ^\u001b[0m\n\u001b[0;31mSyntaxError\u001b[0m\u001b[0;31m:\u001b[0m expected ':'\n"
     ]
    }
   ],
   "source": [
    "class Grid:\n",
    "    def __init__(self, size: int, nr_agents: int, ratio: float):\n",
    "        self.size = [size, size]\n",
    "        self.nr_agents = nr_agents\n",
    "        self.ratio = ratio\n",
    "        self.nr_slots = size*size\n",
    "        self.grid = self._empty_matrix()\n",
    "        self.agent_locations = self._set_agent_locations()\n",
    "        self.empty_locations = self._set_empty_locations()\n",
    "        self.agents = []\n",
    "\n",
    "    def _empty_matrix(self):\n",
    "        return np.zeros(self.size, dtype=int)\n",
    "\n",
    "    def _set_agent_locations(self):\n",
    "        return np.random.choice(self.size[0] ** 2, self.nr_agents, replace=False)\n",
    "    \n",
    "    def _set_empty_locations(self):\n",
    "        return np.array(list(set(range(self.nr_slots)) - set(self.agent_locations)))\n",
    "\n",
    "    def _get_coordinates_from_location(self, location: int):\n",
    "        x = location // self.size[0]\n",
    "        y = location % self.size[0]\n",
    "        return x, y\n",
    "\n",
    "    def place_agents(self):\n",
    "        agents = []\n",
    "        for i, location in enumerate(self.agent_locations):\n",
    "            coordinates = self._get_coordinates_from_location(location)\n",
    "            color = -1 if i < self.nr_agents * self.ratio else 1\n",
    "            agent = Agent(i, color, coordinates)\n",
    "            agents.append(agent)\n",
    "            self.grid[coordinates] = color\n",
    "        self.agents = agents\n",
    "\n",
    "    def get_neighbors(self, coordinates: tuple[int]) -> np.ndarray:\n",
    "        row, column = coordinates\n",
    "        start_row = row - 1 if row > 0 else 0\n",
    "        end_row = row + 2 if row < self.size[0] - 1 else self.size[0] - 1\n",
    "        start_column = column - 1 if column > 0 else 0\n",
    "        end_column = column + 2 if column < self.size[0] - 1 else self.size[0] - 1\n",
    "        return self.grid[start_row:end_row, start_column:end_column]\n",
    "        \n",
    "    def calculate_satisfactions(self):\n",
    "        for agent in self.agents:\n",
    "            neighbors = self.get_neighbors(agent.coordinates)\n",
    "            agent.calculate_satisfaction(neighbors)\n",
    "\n",
    "    def move_agent(self, agent: Agent):\n",
    "        virtual_coordinates = self._get_coordinates_from_location(self.empty_locations[0])\n",
    "        virtual_neighbors = self.get_neighbors(virtual_coordinates)\n",
    "        virtual_agent = agent\n",
    "\n",
    "        virtual_agent.coordinates = virtual_coordinates\n",
    "        virtual_agent.calculate_satisfaction(virtual_neighbors)\n",
    "\n",
    "        if virtual_agent.satisfaction >= agent.threshold:\n",
    "            agent = virtual_agent\n",
    "        "
   ]
  },
  {
   "cell_type": "code",
   "execution_count": 254,
   "metadata": {},
   "outputs": [],
   "source": [
    "grid = Grid(10, 50, 0.5)\n",
    "grid.place_agents()\n",
    "grid.calculate_satisfactions()\n"
   ]
  },
  {
   "cell_type": "code",
   "execution_count": 258,
   "metadata": {},
   "outputs": [
    {
     "name": "stdout",
     "output_type": "stream",
     "text": [
      "0.75\n",
      "0.6\n",
      "1.0\n",
      "1.0\n",
      "0.8\n",
      "0.5\n",
      "0.3333333333333333\n",
      "1.0\n",
      "0.3333333333333333\n",
      "1.0\n",
      "0.6\n",
      "0.5\n",
      "1.0\n",
      "0.6666666666666666\n",
      "0.8\n",
      "0.4\n",
      "0.4\n",
      "0.6\n",
      "0.3333333333333333\n",
      "0.4\n",
      "0.0\n",
      "1.0\n",
      "0.75\n",
      "0.0\n",
      "0.5\n",
      "0.5\n",
      "0.8333333333333334\n",
      "1.0\n",
      "1.0\n",
      "0.0\n",
      "0.5714285714285714\n",
      "0.4\n",
      "1.0\n",
      "0.5\n",
      "0.5\n",
      "0.8\n",
      "0.5\n",
      "1.0\n",
      "0.6666666666666666\n",
      "0.5\n",
      "1.0\n",
      "0.6666666666666666\n",
      "0.8\n",
      "0.4\n",
      "0.5\n",
      "1.0\n",
      "0.2\n",
      "0.5714285714285714\n",
      "0.5\n",
      "0.5\n"
     ]
    }
   ],
   "source": [
    "for agent in grid.agents:\n",
    "    print(agent.satisfaction)"
   ]
  }
 ],
 "metadata": {
  "kernelspec": {
   "display_name": "Python 3.10.7 ('simulation-o2rYBdrI')",
   "language": "python",
   "name": "python3"
  },
  "language_info": {
   "codemirror_mode": {
    "name": "ipython",
    "version": 3
   },
   "file_extension": ".py",
   "mimetype": "text/x-python",
   "name": "python",
   "nbconvert_exporter": "python",
   "pygments_lexer": "ipython3",
   "version": "3.10.7"
  },
  "orig_nbformat": 4,
  "vscode": {
   "interpreter": {
    "hash": "24e5c0027d89c37b25e9758b0abc9dfa9b034149ff75eade2c55c42bd1073dc3"
   }
  }
 },
 "nbformat": 4,
 "nbformat_minor": 2
}
