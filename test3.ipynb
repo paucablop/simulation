{
 "cells": [
  {
   "cell_type": "code",
   "execution_count": 22,
   "metadata": {},
   "outputs": [],
   "source": [
    "import matplotlib.pyplot as plt\n",
    "import numpy as np\n",
    "\n",
    "from schelling.plot import plot_agents"
   ]
  },
  {
   "cell_type": "code",
   "execution_count": 23,
   "metadata": {},
   "outputs": [],
   "source": [
    "class Citizen:\n",
    "    def __init__(self, id: int, type: int, coordinates: tuple[int, int], threshold: float = 0.65, satisfaction: float = 0.0):\n",
    "        self.id = id\n",
    "        self.type = type\n",
    "        self.coordinates = coordinates\n",
    "        self.threshold = threshold\n",
    "        self.satisfaction = satisfaction\n",
    "\n",
    "    def calculate_satisfaction(self, grid: np.ndarray, coordinates: tuple[int, int]):\n",
    "        row, col = coordinates\n",
    "\n",
    "        # Calculate the neighbors\n",
    "        start_row = row - 1 if row > 0 else 0\n",
    "        end_row = row + 2 if row < grid.shape[0] - 1 else grid.shape[0]\n",
    "        start_col = col - 1 if col > 0 else 0\n",
    "        end_col = col + 2 if col < grid.shape[1] - 1 else grid.shape[1]\n",
    "        neighbors = grid[start_row:end_row, start_col:end_col]\n",
    "\n",
    "        # Calculate the number of same color neighbors\n",
    "        same_color_neighbors: int = np.sum(np.where(neighbors == self.type, 1, 0)) \n",
    "\n",
    "        # Calculate the number of empty neighbors\n",
    "        empty_neighbors: int = np.sum(np.where(neighbors == 0, 1, 0)) -1\n",
    "\n",
    "        # Calculate the number of different color neighbors\n",
    "        different_color_neighbors: int = int(np.sum(np.where(neighbors != self.type, 1, 0)) - empty_neighbors)\n",
    "\n",
    "        # Calculate the satisfaction\n",
    "        if same_color_neighbors == 0 and different_color_neighbors == 0:\n",
    "            self.satisfaction = 0\n",
    "            \n",
    "\n",
    "        self.satisfaction = same_color_neighbors/(same_color_neighbors + different_color_neighbors)\n",
    "\n",
    "    def happy(self) -> bool:\n",
    "        # Check if the citizen is happy\n",
    "        if self.satisfaction >= self.threshold:\n",
    "            return True\n",
    "        \n",
    "        return False\n"
   ]
  },
  {
   "cell_type": "code",
   "execution_count": 24,
   "metadata": {},
   "outputs": [],
   "source": [
    "class City:\n",
    "    def __init__(self, size: int, population: int, ratio: float):\n",
    "        self.size = size\n",
    "        self.total = size*size\n",
    "        self.population = population\n",
    "        self.ratio = ratio\n",
    "        self.grid = self._generate_grid()\n",
    "\n",
    "    def _generate_grid(self) -> np.ndarray:\n",
    "        probabilities = [self.population/self.total*self.ratio, self.population/self.total*(1-self.ratio), 1-self.population/self.total]\n",
    "        grid = np.random.choice([1, -1, 0], self.total, p=probabilities)\n",
    "        return grid.reshape((self.size, self.size))\n",
    "\n",
    "    def update_grid(self, old_location: tuple[int, int], new_location: tuple[int, int], type: int):\n",
    "        self.grid[old_location] = 0\n",
    "        self.grid[new_location] = type"
   ]
  },
  {
   "cell_type": "code",
   "execution_count": 25,
   "metadata": {},
   "outputs": [],
   "source": [
    "def get_citizens_from_city(grid: np.ndarray, row: int, col: int) -> Citizen:\n",
    "    id = row * grid.shape[1] + col\n",
    "    type = grid[row, col]\n",
    "    coordinates = (row, col)\n",
    "    citizen = Citizen(id, type, coordinates)\n",
    "    citizen.calculate_satisfaction(grid, (row, col))\n",
    "    return citizen\n",
    "\n",
    "def get_empty_locations(grid: np.ndarray) -> np.ndarray:\n",
    "    rng = np.random.default_rng()\n",
    "    empty_locations = np.argwhere(grid == 0)\n",
    "    rng.shuffle(empty_locations)\n",
    "    return empty_locations.tolist()\n",
    "\n",
    "def update_satisfactions(citizens: list[Citizen], grid: np.ndarray) -> list[Citizen]:\n",
    "    for citizen in citizens:\n",
    "        citizen.happy(grid, citizen.coordinates)\n",
    "    return citizens\n",
    "\n",
    "def calculate_satisfaction(city: City) -> float:\n",
    "    citizens = [get_citizens_from_city(city.grid, row, col) for row in range(city.size) for col in range(city.size) if city.grid[row, col] != 0]\n",
    "    satisfaction = 0\n",
    "    for citizen in citizens:\n",
    "        citizen.calculate_satisfaction(city.grid, citizen.coordinates)\n",
    "        satisfaction += citizen.satisfaction\n",
    "    return satisfaction / len(citizens)\n"
   ]
  },
  {
   "cell_type": "code",
   "execution_count": 26,
   "metadata": {},
   "outputs": [],
   "source": [
    "def move_citizen(citizen: Citizen, city: City, ) -> Citizen:\n",
    "    virtual_citizen = Citizen(citizen.id, citizen.type, citizen.coordinates, citizen.threshold)\n",
    "    empty_locations = get_empty_locations(city.grid)\n",
    "\n",
    "    while empty_locations:\n",
    "        # Get a random empty location\n",
    "        new_location = empty_locations.pop()\n",
    "        # Update the satisfaction\n",
    "        virtual_citizen.calculate_satisfaction(city.grid, new_location)\n",
    "        #if virtual_citizen.happy():\n",
    "        if virtual_citizen.satisfaction > citizen.satisfaction:\n",
    "            # Update the grid\n",
    "            city.update_grid(virtual_citizen.coordinates, (new_location[0], new_location[1]), virtual_citizen.type)\n",
    "            #print(f\"Moving citizen {virtual_citizen.id} from {virtual_citizen.coordinates} to {new_location}\")\n",
    "            return city    \n",
    "    return city    \n"
   ]
  },
  {
   "cell_type": "code",
   "execution_count": 29,
   "metadata": {},
   "outputs": [
    {
     "data": {
      "image/png": "[encoded data removed]",
      "text/plain": [
       "<Figure size 640x480 with 1 Axes>"
      ]
     },
     "metadata": {},
     "output_type": "display_data"
    }
   ],
   "source": [
    "size = 100\n",
    "population = size*size*0.8\n",
    "ratio = 0.5\n",
    "bcn = City(size, population, ratio)\n",
    "plot_agents(bcn.grid)\n",
    "\n",
    "\n",
    "for i in range(15):\n",
    "    citizens = [get_citizens_from_city(bcn.grid, row, col) for row in range(size) for col in range(size) if bcn.grid[row, col] != 0]\n",
    "    \n",
    "    for citizen in citizens:\n",
    "        if citizen.satisfaction < citizen.threshold:\n",
    "            bcn = move_citizen(citizen, bcn)\n",
    "    if i % 1 == 0:\n",
    "        overall_satisfaction = calculate_satisfaction(bcn)\n",
    "        print(f\"Overall satisfaction {overall_satisfaction}\")\n",
    "        print(f\"Iteration: {i}\")\n",
    "        plot_agents(bcn.grid)"
   ]
  },
  {
   "cell_type": "code",
   "execution_count": 28,
   "metadata": {},
   "outputs": [
    {
     "data": {
      "text/plain": [
       "2066"
      ]
     },
     "execution_count": 28,
     "metadata": {},
     "output_type": "execute_result"
    }
   ],
   "source": [
    "np.count_nonzero(bcn.grid==0)"
   ]
  }
 ],
 "metadata": {
  "kernelspec": {
   "display_name": "Python 3.10.7 ('simulation-o2rYBdrI')",
   "language": "python",
   "name": "python3"
  },
  "language_info": {
   "codemirror_mode": {
    "name": "ipython",
    "version": 3
   },
   "file_extension": ".py",
   "mimetype": "text/x-python",
   "name": "python",
   "nbconvert_exporter": "python",
   "pygments_lexer": "ipython3",
   "version": "3.10.7"
  },
  "orig_nbformat": 4,
  "vscode": {
   "interpreter": {
    "hash": "24e5c0027d89c37b25e9758b0abc9dfa9b034149ff75eade2c55c42bd1073dc3"
   }
  }
 },
 "nbformat": 4,
 "nbformat_minor": 2
}
